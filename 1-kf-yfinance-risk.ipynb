{
 "cells": [
  {
   "cell_type": "markdown",
   "id": "3759b5d7-e622-4d05-ba5a-6a7bcf5ea18c",
   "metadata": {},
   "source": [
    "# Dabbling with quantitative finance using Python\n",
    "\n",
    "\n",
    "### What is quantitative finance?\n",
    "Quantitative finance is the use of mathematical models and extremely large datasets to analyze financial markets and securities. In general, there exist two separate branches of finance that require advanced quantitative techniques: risk and portfolio management on one hand & derivatives pricing on the other. We are going to just touch the surface of the first one.\n",
    "\n",
    "So the objective of the talk is to give you a different *perspective* on stock markets, a perspective that is based on statistical analysis and along the way learn few key concepts, namely-\n",
    "\n",
    "* What is return or reward?\n",
    "* What is Risk?\n",
    "* How do we use deal with risk?\n",
    "* What is beta and what are its applications?\n",
    "\n",
    "### A word of caution\n",
    "Do not attempt any trading based on today's talk, But this is just an introduction, it takes much more than just theoretical knowledge.\n",
    "\n",
    "We can only do so much in an hour.  We have too much to cover so I will take questions offline in chat.\n",
    "\n",
    "So let's get started, I will not go thru the code line by line because I will share this notebook at the end.\n",
    "\n",
    "# Getting the data\n",
    "\n",
    "We will be working with daily stock price data. There are multiple Python libraries to download this data. Today I will use `yfinance`.\n",
    "\n",
    "Let's get started, we will get last five year the the data for ICICI Bank"
   ]
  },
  {
   "cell_type": "code",
   "execution_count": 70,
   "id": "1991a02c-98ca-4599-b85a-7133d71d1263",
   "metadata": {},
   "outputs": [],
   "source": [
    "import yfinance as yf\n",
    "import pickle\n",
    "import pandas as pd\n",
    "from warnings import simplefilter\n",
    "simplefilter(action=\"ignore\", category=pd.errors.PerformanceWarning) # Not optimizing for performance\n",
    "simplefilter(action=\"ignore\", category=FutureWarning) # Not concerned about future compatibility\n",
    "YEARS=5"
   ]
  },
  {
   "cell_type": "code",
   "execution_count": 27,
   "id": "34b42bbf-4ed1-4cea-82d8-f731b04379f0",
   "metadata": {},
   "outputs": [
    {
     "data": {
      "text/html": [
       "<div>\n",
       "<style scoped>\n",
       "    .dataframe tbody tr th:only-of-type {\n",
       "        vertical-align: middle;\n",
       "    }\n",
       "\n",
       "    .dataframe tbody tr th {\n",
       "        vertical-align: top;\n",
       "    }\n",
       "\n",
       "    .dataframe thead th {\n",
       "        text-align: right;\n",
       "    }\n",
       "</style>\n",
       "<table border=\"1\" class=\"dataframe\">\n",
       "  <thead>\n",
       "    <tr style=\"text-align: right;\">\n",
       "      <th></th>\n",
       "      <th>Open</th>\n",
       "      <th>High</th>\n",
       "      <th>Low</th>\n",
       "      <th>Close</th>\n",
       "      <th>Volume</th>\n",
       "      <th>Dividends</th>\n",
       "      <th>Stock Splits</th>\n",
       "    </tr>\n",
       "    <tr>\n",
       "      <th>Date</th>\n",
       "      <th></th>\n",
       "      <th></th>\n",
       "      <th></th>\n",
       "      <th></th>\n",
       "      <th></th>\n",
       "      <th></th>\n",
       "      <th></th>\n",
       "    </tr>\n",
       "  </thead>\n",
       "  <tbody>\n",
       "    <tr>\n",
       "      <th>2019-02-18 00:00:00+05:30</th>\n",
       "      <td>335.576749</td>\n",
       "      <td>336.361253</td>\n",
       "      <td>331.016726</td>\n",
       "      <td>332.193512</td>\n",
       "      <td>10601490</td>\n",
       "      <td>0.0</td>\n",
       "      <td>0</td>\n",
       "    </tr>\n",
       "    <tr>\n",
       "      <th>2019-02-19 00:00:00+05:30</th>\n",
       "      <td>332.536774</td>\n",
       "      <td>343.618052</td>\n",
       "      <td>332.536774</td>\n",
       "      <td>336.606445</td>\n",
       "      <td>14384763</td>\n",
       "      <td>0.0</td>\n",
       "      <td>0</td>\n",
       "    </tr>\n",
       "    <tr>\n",
       "      <th>2019-02-20 00:00:00+05:30</th>\n",
       "      <td>338.322566</td>\n",
       "      <td>340.872250</td>\n",
       "      <td>335.723863</td>\n",
       "      <td>338.518707</td>\n",
       "      <td>9474758</td>\n",
       "      <td>0.0</td>\n",
       "      <td>0</td>\n",
       "    </tr>\n",
       "    <tr>\n",
       "      <th>2019-02-21 00:00:00+05:30</th>\n",
       "      <td>340.087707</td>\n",
       "      <td>348.079989</td>\n",
       "      <td>339.548365</td>\n",
       "      <td>344.500610</td>\n",
       "      <td>18631331</td>\n",
       "      <td>0.0</td>\n",
       "      <td>0</td>\n",
       "    </tr>\n",
       "    <tr>\n",
       "      <th>2019-02-22 00:00:00+05:30</th>\n",
       "      <td>344.598701</td>\n",
       "      <td>347.246455</td>\n",
       "      <td>344.500631</td>\n",
       "      <td>345.236115</td>\n",
       "      <td>10997730</td>\n",
       "      <td>0.0</td>\n",
       "      <td>0</td>\n",
       "    </tr>\n",
       "  </tbody>\n",
       "</table>\n",
       "</div>"
      ],
      "text/plain": [
       "                                 Open        High         Low       Close  \\\n",
       "Date                                                                        \n",
       "2019-02-18 00:00:00+05:30  335.576749  336.361253  331.016726  332.193512   \n",
       "2019-02-19 00:00:00+05:30  332.536774  343.618052  332.536774  336.606445   \n",
       "2019-02-20 00:00:00+05:30  338.322566  340.872250  335.723863  338.518707   \n",
       "2019-02-21 00:00:00+05:30  340.087707  348.079989  339.548365  344.500610   \n",
       "2019-02-22 00:00:00+05:30  344.598701  347.246455  344.500631  345.236115   \n",
       "\n",
       "                             Volume  Dividends  Stock Splits  \n",
       "Date                                                          \n",
       "2019-02-18 00:00:00+05:30  10601490        0.0             0  \n",
       "2019-02-19 00:00:00+05:30  14384763        0.0             0  \n",
       "2019-02-20 00:00:00+05:30   9474758        0.0             0  \n",
       "2019-02-21 00:00:00+05:30  18631331        0.0             0  \n",
       "2019-02-22 00:00:00+05:30  10997730        0.0             0  "
      ]
     },
     "execution_count": 27,
     "metadata": {},
     "output_type": "execute_result"
    }
   ],
   "source": [
    "s1 = yf.Ticker('ICICIBANK.NS').history(period='5y')\n",
    "s1.head()"
   ]
  },
  {
   "cell_type": "markdown",
   "id": "53789b6b-814a-4f15-a3af-9a2df2fb3b12",
   "metadata": {},
   "source": [
    "Briefly, understanding the columns\n",
    "```\n",
    "Open: When the market opened at 9:15, what was the price\n",
    "High: Highest price during the day\n",
    "Low:  Lowest price during day\n",
    "Close: Price at the day end\n",
    "Volume: How many shares traded\n",
    "```\n",
    "Let's calculate the daily returns-"
   ]
  },
  {
   "cell_type": "code",
   "execution_count": 28,
   "id": "3e709aa6-d9c3-4a50-822c-0a2eb632cc18",
   "metadata": {},
   "outputs": [
    {
     "data": {
      "text/plain": [
       "<Axes: xlabel='Date'>"
      ]
     },
     "execution_count": 28,
     "metadata": {},
     "output_type": "execute_result"
    },
    {
     "data": {
      "image/png": "[encoded data removed]",
      "text/plain": [
       "<Figure size 640x480 with 1 Axes>"
      ]
     },
     "metadata": {},
     "output_type": "display_data"
    }
   ],
   "source": [
    "s1['Close'].plot()"
   ]
  },
  {
   "cell_type": "markdown",
   "id": "a26896c3-3416-4132-9da4-30cbc2a96e1e",
   "metadata": {},
   "source": [
    "# Returns\n",
    "Lets learn what is daily return, absolute return and CAGR (Compound annual growth rate)"
   ]
  },
  {
   "cell_type": "code",
   "execution_count": 29,
   "id": "ca2a98fa-4356-4429-9be4-063d54af647c",
   "metadata": {},
   "outputs": [],
   "source": [
    "s1['Prev. Close'] = s1['Close'].shift(1)\n",
    "s1['Return'] = s1['Close']/s1['Prev. Close'] - 1\n",
    "s1 = s1.dropna()"
   ]
  },
  {
   "cell_type": "code",
   "execution_count": 71,
   "id": "c845421e-2e0b-4982-b8ad-1bbac9918ba1",
   "metadata": {
    "scrolled": true
   },
   "outputs": [
    {
     "name": "stdout",
     "output_type": "stream",
     "text": [
      "Max single day fall : -17.85 %\n",
      "Max single day rise : 13.76 %\n",
      "Average daily gain: 0.11 %\n"
     ]
    }
   ],
   "source": [
    "print(f\"Max single day fall : {min(s1['Return']*100):.2f} %\")\n",
    "print(f\"Max single day rise : {max(s1['Return']*100):.2f} %\")\n",
    "print(f\"Average daily gain: {s1['Return'].mean()*100:.2f} %\") "
   ]
  },
  {
   "cell_type": "markdown",
   "id": "619cc05e-7af1-41f2-88c7-fa28c9230ad9",
   "metadata": {},
   "source": [
    "What was the absolute return, that is had we invested in icici at the beginning of the period (5 years back) what would be its return today?"
   ]
  },
  {
   "cell_type": "code",
   "execution_count": 31,
   "id": "e35b9be8-3e9e-41bb-97f8-2a0045f824da",
   "metadata": {},
   "outputs": [
    {
     "name": "stdout",
     "output_type": "stream",
     "text": [
      "Absolute return : 203.99%\n"
     ]
    }
   ],
   "source": [
    "abs_return = s1['Close'].iloc[-1] / s1['Close'].iloc[0] - 1\n",
    "print(f\"Absolute return : {(abs_return * 100):.2f}%\")"
   ]
  },
  {
   "cell_type": "markdown",
   "id": "9164c661-ea61-42ba-bc4f-623b684cebf0",
   "metadata": {},
   "source": [
    "CAGR - Compounded annual growth rate\n",
    "$$\n",
    "  CAGR = (V_{final}/V_{initial})^{(1/t)} -1\n",
    "$$\n",
    "\n"
   ]
  },
  {
   "cell_type": "code",
   "execution_count": 32,
   "id": "d70be862-d7ae-48ca-94e3-5687798b9088",
   "metadata": {},
   "outputs": [
    {
     "name": "stdout",
     "output_type": "stream",
     "text": [
      "CARG : 24.90%\n"
     ]
    }
   ],
   "source": [
    "CAGR = (s1['Close'].iloc[-1] / s1['Close'].iloc[0]) ** (1/YEARS) - 1\n",
    "print(f\"CARG : {(CAGR * 100):.2f}%\")"
   ]
  },
  {
   "cell_type": "markdown",
   "id": "51204d04-fec8-4617-b3ed-f18f4e23cb8d",
   "metadata": {},
   "source": [
    "# Risk\n",
    "\n",
    "Let's consider two individuals, one software developer employed in a company with a salary of 1L, and second software developer is a freelancer who may get 3L in a good month and 0 in a bad month. Which profession is risky?\n",
    "\n",
    "In stock market, risk is variation in returns. If you invest in a fixed deposit with interest say 6% then you will receive a return of 0.5% every month, there is no variation in return hence there is no risk. However in our above example we can see that the stock gave 24% CAGR, Does this mean that stock gave approximate 2% return every month like a fixed deposit? No.There were days when it fell 17% just in a day, **So this is the risk.** Sometimes also called as volatility.\n",
    "\n",
    "But how is risk measured? It is measured by standard deviation $\\sigma$ of returns. Mathematically, standard deviation is square root of variance. Which in turn is average of difference between each data point and its mean. Intutively it is measuring how much variation is there from the mean.\n",
    "\n",
    "$$ \\sigma = \\frac {\\sqrt{ \\sum \\limits _{i=1} ^ n {(x_i-\\mu)^2}}}  {2}$$\n",
    "\n",
    "Fortunately `pandas` provides this already, let's use this."
   ]
  },
  {
   "cell_type": "code",
   "execution_count": 43,
   "id": "039884da-9e77-4eb1-8e22-5fced27fb082",
   "metadata": {},
   "outputs": [
    {
     "name": "stdout",
     "output_type": "stream",
     "text": [
      "Standard Deviation of daily returns: 2.07\n"
     ]
    }
   ],
   "source": [
    "print(f\"Standard Deviation of daily returns: {s1['Return'].std()*100:.2f}\")"
   ]
  },
  {
   "cell_type": "markdown",
   "id": "9af78c5a-7bb0-4035-bdb5-434a607f6eb7",
   "metadata": {},
   "source": [
    "Higher the standard deviation, higher the risk/volatility. Let's look at the distribution of returns.\n"
   ]
  },
  {
   "cell_type": "code",
   "execution_count": 45,
   "id": "4c180aa4-5699-444a-aec1-04cd4ed5158e",
   "metadata": {},
   "outputs": [
    {
     "data": {
      "text/plain": [
       "array([[<Axes: title={'center': 'Return'}>]], dtype=object)"
      ]
     },
     "execution_count": 45,
     "metadata": {},
     "output_type": "execute_result"
    },
    {
     "data": {
      "image/png": "[encoded data removed]",
      "text/plain": [
       "<Figure size 640x480 with 1 Axes>"
      ]
     },
     "metadata": {},
     "output_type": "display_data"
    }
   ],
   "source": [
    "s1.hist(column='Return', bins=100)"
   ]
  },
  {
   "cell_type": "markdown",
   "id": "f78e3451-400c-4401-abae-8b191200f7d7",
   "metadata": {},
   "source": [
    "This looks very much like normal distribution\n",
    "\n",
    "<img src=\"https://swapniljariwala.github.io/normal-dist.webp\" alt=\"Drawing\" style=\"width: 500px;\"/>\n",
    "\n",
    "This observation is not so relevant for today's talk but this is very useful in options pricing. Besides that, I just want to spend a a minute on normal distribution. This is the most important statistical tool one can learn. You will come across it in lot of areas, for example sales pattern for daily products like soap etc, in healthcare distribution of blood sugar level, ever heard about fitting the bell curve? Everything follows normal curve."
   ]
  },
  {
   "cell_type": "code",
   "execution_count": 46,
   "id": "ac7c7baf-1933-4fbf-af49-d10a212317d1",
   "metadata": {},
   "outputs": [
    {
     "name": "stdout",
     "output_type": "stream",
     "text": [
      "Absolute return : 203.99%\n",
      "CARG : 24.90%\n",
      "Annual Standard Deviation: 32.82\n"
     ]
    }
   ],
   "source": [
    "abs_return = s1['Close'].iloc[-1] / s1['Close'].iloc[0] - 1\n",
    "print(f\"Absolute return : {(abs_return * 100):.2f}%\")\n",
    "CAGR = (s1['Close'].iloc[-1] / s1['Close'].iloc[0]) ** (1/YEARS) - 1\n",
    "print(f\"CARG : {(CAGR * 100):.2f}%\")\n",
    "print(f\"Annual Standard Deviation: {s1['Return'].std()*100*(252**0.5):.2f}\")"
   ]
  },
  {
   "cell_type": "markdown",
   "id": "2791c7a9-3127-4a29-95b2-414b10f45043",
   "metadata": {},
   "source": [
    "# How do we deal with risk?\n",
    "\n",
    "Let's try to add another stock to the mix. A collection of stocks is often called as portfolio."
   ]
  },
  {
   "cell_type": "code",
   "execution_count": 47,
   "id": "3af925bb-0c4a-4dbb-9409-8af065c3b806",
   "metadata": {},
   "outputs": [
    {
     "data": {
      "text/html": [
       "<div>\n",
       "<style scoped>\n",
       "    .dataframe tbody tr th:only-of-type {\n",
       "        vertical-align: middle;\n",
       "    }\n",
       "\n",
       "    .dataframe tbody tr th {\n",
       "        vertical-align: top;\n",
       "    }\n",
       "\n",
       "    .dataframe thead th {\n",
       "        text-align: right;\n",
       "    }\n",
       "</style>\n",
       "<table border=\"1\" class=\"dataframe\">\n",
       "  <thead>\n",
       "    <tr style=\"text-align: right;\">\n",
       "      <th></th>\n",
       "      <th>Open</th>\n",
       "      <th>High</th>\n",
       "      <th>Low</th>\n",
       "      <th>Close</th>\n",
       "      <th>Volume</th>\n",
       "      <th>Dividends</th>\n",
       "      <th>Stock Splits</th>\n",
       "      <th>Prev. Close</th>\n",
       "      <th>Return</th>\n",
       "    </tr>\n",
       "    <tr>\n",
       "      <th>Date</th>\n",
       "      <th></th>\n",
       "      <th></th>\n",
       "      <th></th>\n",
       "      <th></th>\n",
       "      <th></th>\n",
       "      <th></th>\n",
       "      <th></th>\n",
       "      <th></th>\n",
       "      <th></th>\n",
       "    </tr>\n",
       "  </thead>\n",
       "  <tbody>\n",
       "    <tr>\n",
       "      <th>2019-02-19 00:00:00+05:30</th>\n",
       "      <td>530.390213</td>\n",
       "      <td>530.584935</td>\n",
       "      <td>522.553145</td>\n",
       "      <td>525.376465</td>\n",
       "      <td>1879600</td>\n",
       "      <td>0.0</td>\n",
       "      <td>0</td>\n",
       "      <td>526.836792</td>\n",
       "      <td>-0.002772</td>\n",
       "    </tr>\n",
       "    <tr>\n",
       "      <th>2019-02-20 00:00:00+05:30</th>\n",
       "      <td>525.911987</td>\n",
       "      <td>528.832639</td>\n",
       "      <td>524.402996</td>\n",
       "      <td>526.788147</td>\n",
       "      <td>1208930</td>\n",
       "      <td>0.0</td>\n",
       "      <td>0</td>\n",
       "      <td>525.376465</td>\n",
       "      <td>0.002687</td>\n",
       "    </tr>\n",
       "    <tr>\n",
       "      <th>2019-02-21 00:00:00+05:30</th>\n",
       "      <td>528.491784</td>\n",
       "      <td>533.408261</td>\n",
       "      <td>526.203965</td>\n",
       "      <td>531.071716</td>\n",
       "      <td>1093548</td>\n",
       "      <td>0.0</td>\n",
       "      <td>0</td>\n",
       "      <td>526.788147</td>\n",
       "      <td>0.008131</td>\n",
       "    </tr>\n",
       "    <tr>\n",
       "      <th>2019-02-22 00:00:00+05:30</th>\n",
       "      <td>529.416664</td>\n",
       "      <td>531.655818</td>\n",
       "      <td>524.840965</td>\n",
       "      <td>526.982788</td>\n",
       "      <td>1592112</td>\n",
       "      <td>0.0</td>\n",
       "      <td>0</td>\n",
       "      <td>531.071716</td>\n",
       "      <td>-0.007699</td>\n",
       "    </tr>\n",
       "    <tr>\n",
       "      <th>2019-02-25 00:00:00+05:30</th>\n",
       "      <td>527.177538</td>\n",
       "      <td>536.280210</td>\n",
       "      <td>526.690762</td>\n",
       "      <td>533.797668</td>\n",
       "      <td>1961905</td>\n",
       "      <td>0.0</td>\n",
       "      <td>0</td>\n",
       "      <td>526.982788</td>\n",
       "      <td>0.012932</td>\n",
       "    </tr>\n",
       "  </tbody>\n",
       "</table>\n",
       "</div>"
      ],
      "text/plain": [
       "                                 Open        High         Low       Close  \\\n",
       "Date                                                                        \n",
       "2019-02-19 00:00:00+05:30  530.390213  530.584935  522.553145  525.376465   \n",
       "2019-02-20 00:00:00+05:30  525.911987  528.832639  524.402996  526.788147   \n",
       "2019-02-21 00:00:00+05:30  528.491784  533.408261  526.203965  531.071716   \n",
       "2019-02-22 00:00:00+05:30  529.416664  531.655818  524.840965  526.982788   \n",
       "2019-02-25 00:00:00+05:30  527.177538  536.280210  526.690762  533.797668   \n",
       "\n",
       "                            Volume  Dividends  Stock Splits  Prev. Close  \\\n",
       "Date                                                                       \n",
       "2019-02-19 00:00:00+05:30  1879600        0.0             0   526.836792   \n",
       "2019-02-20 00:00:00+05:30  1208930        0.0             0   525.376465   \n",
       "2019-02-21 00:00:00+05:30  1093548        0.0             0   526.788147   \n",
       "2019-02-22 00:00:00+05:30  1592112        0.0             0   531.071716   \n",
       "2019-02-25 00:00:00+05:30  1961905        0.0             0   526.982788   \n",
       "\n",
       "                             Return  \n",
       "Date                                 \n",
       "2019-02-19 00:00:00+05:30 -0.002772  \n",
       "2019-02-20 00:00:00+05:30  0.002687  \n",
       "2019-02-21 00:00:00+05:30  0.008131  \n",
       "2019-02-22 00:00:00+05:30 -0.007699  \n",
       "2019-02-25 00:00:00+05:30  0.012932  "
      ]
     },
     "execution_count": 47,
     "metadata": {},
     "output_type": "execute_result"
    }
   ],
   "source": [
    "s2 = yf.Ticker('CIPLA.NS').history(period='5y')\n",
    "s2['Prev. Close'] = s2['Close'].shift(1)\n",
    "s2['Return'] = s2['Close']/s2['Prev. Close'] - 1\n",
    "s2 = s2.dropna()\n",
    "s2.head()\n"
   ]
  },
  {
   "cell_type": "code",
   "execution_count": 48,
   "id": "b1a75478-85f4-46fc-9844-cfe39f0e5df4",
   "metadata": {},
   "outputs": [
    {
     "name": "stdout",
     "output_type": "stream",
     "text": [
      "Absolute return : 174.22%\n",
      "CARG : 22.35%\n",
      "Annual Standard Deviation: 27.49\n"
     ]
    }
   ],
   "source": [
    "abs_return = s2['Close'].iloc[-1] / s2['Close'].iloc[0] - 1\n",
    "print(f\"Absolute return : {(abs_return * 100):.2f}%\")\n",
    "CAGR = (s2['Close'].iloc[-1] / s2['Close'].iloc[0]) ** (1/YEARS) - 1\n",
    "print(f\"CARG : {(CAGR * 100):.2f}%\")\n",
    "print(f\"Annual Standard Deviation: {s2['Return'].std()*100*(252**0.5):.2f}\")"
   ]
  },
  {
   "cell_type": "code",
   "execution_count": 49,
   "id": "7336b13b-7fb1-42d8-8ffd-9076ef85fc65",
   "metadata": {},
   "outputs": [
    {
     "data": {
      "text/plain": [
       "<Axes: xlabel='Date'>"
      ]
     },
     "execution_count": 49,
     "metadata": {},
     "output_type": "execute_result"
    },
    {
     "data": {
      "image/png": "[encoded data removed]",
      "text/plain": [
       "<Figure size 640x480 with 1 Axes>"
      ]
     },
     "metadata": {},
     "output_type": "display_data"
    }
   ],
   "source": [
    "s2[['Close']].plot()"
   ]
  },
  {
   "cell_type": "code",
   "execution_count": 66,
   "id": "726288b7-f9a0-4ab3-b2c2-3d9d972c0089",
   "metadata": {},
   "outputs": [
    {
     "data": {
      "text/plain": [
       "<Axes: xlabel='Date'>"
      ]
     },
     "execution_count": 66,
     "metadata": {},
     "output_type": "execute_result"
    },
    {
     "data": {
      "image/png": "[encoded data removed]",
      "text/plain": [
       "<Figure size 640x480 with 1 Axes>"
      ]
     },
     "metadata": {},
     "output_type": "display_data"
    }
   ],
   "source": [
    "portfolio = pd.DataFrame()\n",
    "wt1 = 0.5\n",
    "wt2 = 0.5\n",
    "# portfolio.index = icici.index\n",
    "portfolio['Close'] = wt1*s1['Close'] + wt2*s2['Close']\n",
    "portfolio['Prev. Close'] = wt1*s1['Prev. Close'] + wt2*s2['Prev. Close']\n",
    "portfolio.dropna(inplace=True)\n",
    "portfolio[['Close']].plot()"
   ]
  },
  {
   "cell_type": "code",
   "execution_count": 64,
   "id": "765b403b-778f-4f93-87bc-1d96a507bc65",
   "metadata": {},
   "outputs": [
    {
     "data": {
      "text/plain": [
       "Date\n",
       "2019-02-19 00:00:00+05:30    0.343714\n",
       "2019-02-20 00:00:00+05:30    0.385616\n",
       "2019-02-21 00:00:00+05:30    1.186339\n",
       "2019-02-22 00:00:00+05:30   -0.382998\n",
       "2019-02-25 00:00:00+05:30    1.180457\n",
       "                               ...   \n",
       "2024-02-12 00:00:00+05:30   -0.799855\n",
       "2024-02-13 00:00:00+05:30    1.921139\n",
       "2024-02-14 00:00:00+05:30   -1.190692\n",
       "2024-02-15 00:00:00+05:30   -0.369681\n",
       "2024-02-16 00:00:00+05:30    1.022958\n",
       "Name: Return, Length: 1234, dtype: float64"
      ]
     },
     "execution_count": 64,
     "metadata": {},
     "output_type": "execute_result"
    }
   ],
   "source": [
    "portfolio['Return'] = portfolio['Close']/portfolio['Prev. Close'] - 1 \n",
    "portfolio['Return']*100"
   ]
  },
  {
   "cell_type": "code",
   "execution_count": 65,
   "id": "527c83ad-e412-442a-b717-d816a629689c",
   "metadata": {
    "scrolled": true
   },
   "outputs": [
    {
     "name": "stdout",
     "output_type": "stream",
     "text": [
      "Absolute return : 185.85%\n",
      "CARG : 23.37%\n",
      "Annual Standard Deviation: 22.66\n"
     ]
    }
   ],
   "source": [
    "abs_return = portfolio['Close'].iloc[-1] / portfolio['Close'].iloc[0] - 1\n",
    "print(f\"Absolute return : {(abs_return * 100):.2f}%\")\n",
    "CAGR = (portfolio['Close'].iloc[-1] / portfolio['Close'].iloc[0]) ** (1/YEARS) - 1\n",
    "print(f\"CARG : {(CAGR * 100):.2f}%\")\n",
    "print(f\"Annual Standard Deviation: {portfolio['Return'].std()*100*(252**0.5):.2f}\")"
   ]
  },
  {
   "cell_type": "markdown",
   "id": "31af4576-99cb-4b84-8496-36ab89981ee4",
   "metadata": {},
   "source": [
    "So in terms of returns it is slightly reduced but it has also reduced the standard deviation significantly\n",
    "\n",
    "|Portfolio|CAGR (%)|Annual Volatility (%)|\n",
    "|-|-|-|\n",
    "|ICICI|24.9%|32.8|\n",
    "|CIPLA|22.35|27.49|\n",
    "|ICIC+CIPLA|23.37%|22.66|\n",
    "\n",
    "\n",
    "So in conclusion\n",
    "\n",
    "* If you have to pick a stocks/portfolios for investment giving same expected return but different standard deviation, stocks/portfolio with lowest volatility is preferred\n",
    "* We can combine certain stocks to reduce risk while maintaining the returns at similar levels, this is called diversification\n",
    "\n",
    "Now the question is, can we combine any stocks to reduce risk?\n"
   ]
  },
  {
   "cell_type": "markdown",
   "id": "11ec2f40-574e-4c0b-b092-9b8a9066b834",
   "metadata": {},
   "source": [
    "### But why did the volatility reduce?\n",
    "\n",
    "It is because I chose two stocks which were **uncorrelated**. What is correlation? Correlation is a statistical measure that expresses the extent to which two variables are linearly related (meaning they change together at a constant rate).\n",
    "\n",
    "$$correlation = \\frac {cov(x,y)}{\\sigma_x . \\sigma_y}$$\n",
    "\n",
    "Where\n",
    "\n",
    "$$ cov(x,y) = \\frac {\\sum {(x-\\mu_x)(y-\\mu_y)}}{N} $$\n",
    "\n",
    "Again we dont need to calculate this manually, pandas provides formula directly\n",
    "\n",
    "#### How to interprete correlation?\n",
    "\n",
    "The correlation coefficient value can be anywhere between -1 to 1. \n",
    "\n",
    "| Correlation | Interpretation |\n",
    "|-------------|----------------|\n",
    "|Close to 1   | Variables are strongly related, and move in same direction |\n",
    "|Close to 0   | Variables are not related to each other at all |\n",
    "|Close to -1  | Variables are strongly related, but move opposite to each other |\n",
    "\n"
   ]
  },
  {
   "cell_type": "code",
   "execution_count": 67,
   "id": "89a8a20e-e362-4b40-a9bc-551a56bc38dc",
   "metadata": {},
   "outputs": [],
   "source": [
    "returns = pd.DataFrame()"
   ]
  },
  {
   "cell_type": "code",
   "execution_count": 68,
   "id": "faa42d92-c2a9-433b-ab71-0926aca9ce45",
   "metadata": {},
   "outputs": [],
   "source": [
    "returns['s1'] = s1['Return']\n",
    "returns['s2'] = s2['Return']"
   ]
  },
  {
   "cell_type": "code",
   "execution_count": 69,
   "id": "a97380cb-d93b-4039-a02f-0ab790a6133e",
   "metadata": {},
   "outputs": [
    {
     "data": {
      "text/html": [
       "<div>\n",
       "<style scoped>\n",
       "    .dataframe tbody tr th:only-of-type {\n",
       "        vertical-align: middle;\n",
       "    }\n",
       "\n",
       "    .dataframe tbody tr th {\n",
       "        vertical-align: top;\n",
       "    }\n",
       "\n",
       "    .dataframe thead th {\n",
       "        text-align: right;\n",
       "    }\n",
       "</style>\n",
       "<table border=\"1\" class=\"dataframe\">\n",
       "  <thead>\n",
       "    <tr style=\"text-align: right;\">\n",
       "      <th></th>\n",
       "      <th>s1</th>\n",
       "      <th>s2</th>\n",
       "    </tr>\n",
       "  </thead>\n",
       "  <tbody>\n",
       "    <tr>\n",
       "      <th>s1</th>\n",
       "      <td>1.000000</td>\n",
       "      <td>0.155794</td>\n",
       "    </tr>\n",
       "    <tr>\n",
       "      <th>s2</th>\n",
       "      <td>0.155794</td>\n",
       "      <td>1.000000</td>\n",
       "    </tr>\n",
       "  </tbody>\n",
       "</table>\n",
       "</div>"
      ],
      "text/plain": [
       "          s1        s2\n",
       "s1  1.000000  0.155794\n",
       "s2  0.155794  1.000000"
      ]
     },
     "execution_count": 69,
     "metadata": {},
     "output_type": "execute_result"
    }
   ],
   "source": [
    "returns.corr()"
   ]
  },
  {
   "cell_type": "markdown",
   "id": "2c8e4411-d388-4076-9aae-14818eca7e5c",
   "metadata": {},
   "source": [
    "As you can see the correlation coefficient is closer to 0 and there is no correlation or we can say negligible correlation. Because of this their when we combine them in same portfolio it results in lower standard deviation.\n",
    "\n"
   ]
  },
  {
   "cell_type": "markdown",
   "id": "b3986660-425a-47f9-bd0b-1c2fce708d99",
   "metadata": {},
   "source": [
    "## Modern portfolio theory\n",
    "\n",
    "What we learnt is the basis for one of the most important investment theory, Modern portfolio theory, it allows investors to assemble a portfolio of assets that maximizes expected return for a given level of risk. `Markovitz` received his Nobel prize in 1990 for his work on this theory.\n",
    "\n",
    "* Say there are $N$ stocks to select in portfolio, what we want to find is what should be weight $w_i$ of each stock in the portfolio\n",
    "* There are infinite number of portfolios possible but we want to select a subset of such portfolio where risk is lowest for given expected return\n",
    "\n",
    "<div>\n",
    "<img src=\"https://swapniljariwala.github.io/efficient-frontier.png\" width=\"500\"/>\n",
    "</div>\n",
    "\n",
    "So basically if you have say 10 favorite stocks, but you are not sure how to decide the weights for each stock. You can say large number of say 10000 combinations of random weights and calculate return and risk for each of the combination and select a combination which gives you best return for lowest risk possible.\n",
    "\n",
    "\n",
    "## Recap of what we learnt so far\n",
    "\n",
    "* How to measure stock returns\n",
    "* What is risk and how to measure it\n",
    "* What is correlation\n",
    "* How to use correlation for minimizing risk\n"
   ]
  },
  {
   "cell_type": "markdown",
   "id": "6982ad83-c5d5-4c9c-bdc2-f1e5f59c73c3",
   "metadata": {},
   "source": [
    "\n"
   ]
  },
  {
   "cell_type": "code",
   "execution_count": null,
   "id": "63459044-42a2-4d88-a1ad-478df2b11668",
   "metadata": {},
   "outputs": [],
   "source": []
  }
 ],
 "metadata": {
  "kernelspec": {
   "display_name": "Python 3 (ipykernel)",
   "language": "python",
   "name": "python3"
  },
  "language_info": {
   "codemirror_mode": {
    "name": "ipython",
    "version": 3
   },
   "file_extension": ".py",
   "mimetype": "text/x-python",
   "name": "python",
   "nbconvert_exporter": "python",
   "pygments_lexer": "ipython3",
   "version": "3.9.6"
  }
 },
 "nbformat": 4,
 "nbformat_minor": 5
}
