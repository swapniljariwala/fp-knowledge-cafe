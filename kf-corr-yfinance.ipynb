{
 "cells": [
  {
   "cell_type": "code",
   "execution_count": 3,
   "id": "45b96ff8-407f-40a6-b2d2-8be68dcd273d",
   "metadata": {},
   "outputs": [
    {
     "name": "stderr",
     "output_type": "stream",
     "text": [
      "/Users/swapniljariwala/pyapps/fp-knowledge-cafe/env/lib/python3.9/site-packages/urllib3/__init__.py:35: NotOpenSSLWarning: urllib3 v2 only supports OpenSSL 1.1.1+, currently the 'ssl' module is compiled with 'LibreSSL 2.8.3'. See: https://github.com/urllib3/urllib3/issues/3020\n",
      "  warnings.warn(\n"
     ]
    }
   ],
   "source": [
    "import yfinance as yf\n",
    "import pickle\n",
    "import pandas as pd\n",
    "from warnings import simplefilter\n",
    "simplefilter(action=\"ignore\", category=pd.errors.PerformanceWarning) # Not optimizing for performance"
   ]
  },
  {
   "cell_type": "code",
   "execution_count": 4,
   "id": "38ae4161-8b01-4b64-9c7f-44fa0d7df3a6",
   "metadata": {},
   "outputs": [
    {
     "name": "stdout",
     "output_type": "stream",
     "text": [
      "Loaded data from disk\n"
     ]
    }
   ],
   "source": [
    "with open('ind_nifty50list.csv') as fp:\n",
    "    text = fp.read()\n",
    "    rows = text.split('\\n')\n",
    "    stocks = [row.split(',')[2] + '.NS' for row in rows if len(row) > 0]\n",
    "try:\n",
    "    # Try loading from disk and if it fails then download from internet and save to disk\n",
    "    with open('nifty50-5y.pkl', 'rb') as fp:\n",
    "        hist = pickle.load(fp)\n",
    "        print(\"Loaded data from disk\")\n",
    "except:    \n",
    "    stocks_str = ' '.join(stocks[1:])\n",
    "    hist = yf.download(stocks_str, period=\"5y\")\n",
    "    print(\"Downloaded data\")\n",
    "    hist.to_pickle('nifty50-5y.pkl')\n",
    "    print(\"Saved to disk\")"
   ]
  },
  {
   "cell_type": "code",
   "execution_count": 5,
   "id": "7847a290-d5f5-46a3-a220-ba7a96776f03",
   "metadata": {},
   "outputs": [],
   "source": [
    "for stock in stocks[1:]:\n",
    "    hist[('Prev. Close', stock)] = hist[('Close', stock)].shift(1)\n"
   ]
  },
  {
   "cell_type": "code",
   "execution_count": 6,
   "id": "d15599a5-fcb2-40e9-9597-bc349b9e01d4",
   "metadata": {},
   "outputs": [],
   "source": [
    "\n",
    "for stock in stocks[1:]:\n",
    "    hist[('Return', stock)] = hist[('Close', stock)] / hist[('Prev. Close', stock)]"
   ]
  },
  {
   "cell_type": "code",
   "execution_count": 7,
   "id": "f5a581df-39dd-49aa-9f46-b18f4059b2cc",
   "metadata": {},
   "outputs": [
    {
     "name": "stderr",
     "output_type": "stream",
     "text": [
      "/var/folders/2f/9jzdgmzs6xq0fzpv56h5wln40000gp/T/ipykernel_91744/4099255047.py:1: SettingWithCopyWarning: \n",
      "A value is trying to be set on a copy of a slice from a DataFrame\n",
      "\n",
      "See the caveats in the documentation: https://pandas.pydata.org/pandas-docs/stable/user_guide/indexing.html#returning-a-view-versus-a-copy\n",
      "  hist['Return'].dropna(inplace=True)\n"
     ]
    }
   ],
   "source": [
    "hist['Return'].dropna(inplace=True)"
   ]
  },
  {
   "cell_type": "code",
   "execution_count": 8,
   "id": "196a5575-039b-46d8-9acc-ea04aa74b330",
   "metadata": {},
   "outputs": [],
   "source": [
    "corr = hist['Return'].corr()"
   ]
  },
  {
   "cell_type": "code",
   "execution_count": 19,
   "id": "77b9960a-219e-4a2e-b625-aca232ea8d39",
   "metadata": {},
   "outputs": [
    {
     "name": "stdout",
     "output_type": "stream",
     "text": [
      "--ADANIENT.NS--\n",
      "CIPLA.NS      0.114330\n",
      "DRREDDY.NS    0.138033\n",
      "Name: ADANIENT.NS, dtype: float64\n",
      "--ADANIPORTS.NS--\n",
      "CIPLA.NS      0.138014\n",
      "DRREDDY.NS    0.148018\n",
      "Name: ADANIPORTS.NS, dtype: float64\n",
      "--ASIANPAINT.NS--\n",
      "CIPLA.NS        0.136129\n",
      "COALINDIA.NS    0.146377\n",
      "ONGC.NS         0.125591\n",
      "Name: ASIANPAINT.NS, dtype: float64\n",
      "--BAJFINANCE.NS--\n",
      "CIPLA.NS      0.099112\n",
      "DRREDDY.NS    0.125319\n",
      "Name: BAJFINANCE.NS, dtype: float64\n",
      "--BAJAJFINSV.NS--\n",
      "CIPLA.NS      0.124824\n",
      "DRREDDY.NS    0.141158\n",
      "Name: BAJAJFINSV.NS, dtype: float64\n",
      "--BPCL.NS--\n",
      "CIPLA.NS    0.142917\n",
      "Name: BPCL.NS, dtype: float64\n",
      "--BRITANNIA.NS--\n",
      "POWERGRID.NS    0.123181\n",
      "Name: BRITANNIA.NS, dtype: float64\n",
      "--CIPLA.NS--\n",
      "ADANIENT.NS      0.114330\n",
      "ADANIPORTS.NS    0.138014\n",
      "ASIANPAINT.NS    0.136129\n",
      "BAJFINANCE.NS    0.099112\n",
      "BAJAJFINSV.NS    0.124824\n",
      "BPCL.NS          0.142917\n",
      "COALINDIA.NS     0.157876\n",
      "EICHERMOT.NS     0.100039\n",
      "HDFCBANK.NS      0.107693\n",
      "HDFCLIFE.NS      0.133562\n",
      "ICICIBANK.NS     0.156180\n",
      "INDUSINDBK.NS    0.137608\n",
      "KOTAKBANK.NS     0.148386\n",
      "ONGC.NS          0.144486\n",
      "RELIANCE.NS      0.136823\n",
      "TITAN.NS         0.148436\n",
      "UPL.NS           0.149422\n",
      "Name: CIPLA.NS, dtype: float64\n",
      "--COALINDIA.NS--\n",
      "ASIANPAINT.NS    0.146377\n",
      "CIPLA.NS         0.157876\n",
      "HINDUNILVR.NS    0.131065\n",
      "INFY.NS          0.159913\n",
      "NESTLEIND.NS     0.148039\n",
      "Name: COALINDIA.NS, dtype: float64\n",
      "--DRREDDY.NS--\n",
      "ADANIENT.NS      0.138033\n",
      "ADANIPORTS.NS    0.148018\n",
      "BAJFINANCE.NS    0.125319\n",
      "BAJAJFINSV.NS    0.141158\n",
      "INDUSINDBK.NS    0.129586\n",
      "TATAMOTORS.NS    0.159987\n",
      "Name: DRREDDY.NS, dtype: float64\n",
      "--EICHERMOT.NS--\n",
      "CIPLA.NS    0.100039\n",
      "Name: EICHERMOT.NS, dtype: float64\n",
      "--HDFCBANK.NS--\n",
      "CIPLA.NS    0.107693\n",
      "Name: HDFCBANK.NS, dtype: float64\n",
      "--HDFCLIFE.NS--\n",
      "CIPLA.NS    0.133562\n",
      "Name: HDFCLIFE.NS, dtype: float64\n",
      "--HINDUNILVR.NS--\n",
      "COALINDIA.NS    0.131065\n",
      "NTPC.NS         0.150319\n",
      "POWERGRID.NS    0.132135\n",
      "Name: HINDUNILVR.NS, dtype: float64\n",
      "--ICICIBANK.NS--\n",
      "CIPLA.NS    0.15618\n",
      "Name: ICICIBANK.NS, dtype: float64\n",
      "--INDUSINDBK.NS--\n",
      "CIPLA.NS      0.137608\n",
      "DRREDDY.NS    0.129586\n",
      "Name: INDUSINDBK.NS, dtype: float64\n",
      "--INFY.NS--\n",
      "COALINDIA.NS    0.159913\n",
      "POWERGRID.NS    0.146817\n",
      "Name: INFY.NS, dtype: float64\n",
      "--KOTAKBANK.NS--\n",
      "CIPLA.NS    0.148386\n",
      "Name: KOTAKBANK.NS, dtype: float64\n",
      "--LTIM.NS--\n",
      "POWERGRID.NS    0.134776\n",
      "Name: LTIM.NS, dtype: float64\n",
      "--NTPC.NS--\n",
      "HINDUNILVR.NS    0.150319\n",
      "Name: NTPC.NS, dtype: float64\n",
      "--NESTLEIND.NS--\n",
      "COALINDIA.NS    0.148039\n",
      "ONGC.NS         0.140445\n",
      "Name: NESTLEIND.NS, dtype: float64\n",
      "--ONGC.NS--\n",
      "ASIANPAINT.NS    0.125591\n",
      "CIPLA.NS         0.144486\n",
      "NESTLEIND.NS     0.140445\n",
      "Name: ONGC.NS, dtype: float64\n",
      "--POWERGRID.NS--\n",
      "BRITANNIA.NS     0.123181\n",
      "HINDUNILVR.NS    0.132135\n",
      "INFY.NS          0.146817\n",
      "LTIM.NS          0.134776\n",
      "TCS.NS           0.157064\n",
      "Name: POWERGRID.NS, dtype: float64\n",
      "--RELIANCE.NS--\n",
      "CIPLA.NS    0.136823\n",
      "Name: RELIANCE.NS, dtype: float64\n",
      "--TCS.NS--\n",
      "POWERGRID.NS    0.157064\n",
      "Name: TCS.NS, dtype: float64\n",
      "--TATAMOTORS.NS--\n",
      "DRREDDY.NS    0.159987\n",
      "Name: TATAMOTORS.NS, dtype: float64\n",
      "--TITAN.NS--\n",
      "CIPLA.NS    0.148436\n",
      "Name: TITAN.NS, dtype: float64\n",
      "--UPL.NS--\n",
      "CIPLA.NS    0.149422\n",
      "Name: UPL.NS, dtype: float64\n"
     ]
    }
   ],
   "source": [
    "thresh=0.16\n",
    "for stock in stocks[1:]:\n",
    "    if len(corr[stock][corr[stock]<thresh])>0:\n",
    "        print(f\"--{stock}--\")\n",
    "        print(corr[stock][corr[stock]<thresh])"
   ]
  },
  {
   "cell_type": "code",
   "execution_count": null,
   "id": "a11bb870-d22b-4725-b02b-dde2f78808c3",
   "metadata": {},
   "outputs": [],
   "source": []
  }
 ],
 "metadata": {
  "kernelspec": {
   "display_name": "Python 3 (ipykernel)",
   "language": "python",
   "name": "python3"
  },
  "language_info": {
   "codemirror_mode": {
    "name": "ipython",
    "version": 3
   },
   "file_extension": ".py",
   "mimetype": "text/x-python",
   "name": "python",
   "nbconvert_exporter": "python",
   "pygments_lexer": "ipython3",
   "version": "3.9.6"
  }
 },
 "nbformat": 4,
 "nbformat_minor": 5
}
